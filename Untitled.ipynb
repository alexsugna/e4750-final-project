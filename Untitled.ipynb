{
 "cells": [
  {
   "cell_type": "code",
   "execution_count": 32,
   "id": "4d1b863d-ca31-4877-b4a6-2ad7a86795db",
   "metadata": {},
   "outputs": [
    {
     "name": "stdout",
     "output_type": "stream",
     "text": [
      "/home/alexangus/envs/cudaEnv/lib/python3.6/site-packages/sklearn/decomposition/_nmf.py:1091: ConvergenceWarning: Maximum number of iterations 100 reached. Increase it to improve convergence.\n",
      "  \" improve convergence.\" % max_iter, ConvergenceWarning)\n",
      "Trained in 15.377400636672974 s\n",
      "         Topic_1           Topic_2  ...       Topic_24          Topic_25\n",
      "0   0.0239 thing  0.1837 yesterday  ...   0.0109 serve     0.0450 school\n",
      "1     0.0136 ask      0.0195 close  ...     0.0104 add    0.0362 student\n",
      "2    0.0134 feel       0.0177 news  ...  0.0096 minute  0.0167 education\n",
      "3     0.0124 put   0.0164 announce  ...  0.0094 pepper    0.0146 teacher\n",
      "4     0.0112 lot       0.0156 city  ...     0.0092 oil    0.0139 program\n",
      "5    0.0111 tell       0.0131 late  ...     0.0089 cup    0.0138 college\n",
      "6  0.0110 really     0.0106 expect  ...    0.0088 cook      0.0132 child\n",
      "7    0.0098 keep        0.0105 add  ...    0.0086 food      0.0131 class\n",
      "8  0.0089 happen   0.0100 continue  ...   0.0083 sauce     0.0114 parent\n",
      "9  0.0086 little      0.0094 night  ...   0.0081 taste     0.0091 public\n",
      "\n",
      "[10 rows x 25 columns]\n"
     ]
    }
   ],
   "source": [
    "!python ./src/serial_sqr_sklearn.py"
   ]
  },
  {
   "cell_type": "code",
   "execution_count": 31,
   "id": "796103ae-8ede-4985-89ac-649c42eba9c6",
   "metadata": {},
   "outputs": [
    {
     "name": "stdout",
     "output_type": "stream",
     "text": [
      "iteration 10\n",
      "Trained in 6402.601480484009 ms\n",
      "            Topic_1            Topic_2  ...       Topic_24          Topic_25\n",
      "0    0.0046 percent    0.0042 american  ...    0.0086 play      0.0044 issue\n",
      "1     0.0042 market      0.0036 states  ...    0.0063 game    0.0044 country\n",
      "2    0.0035 company       0.0035 group  ...    0.0055 team      0.0040 state\n",
      "3      0.0035 large       0.0033 world  ...     0.0049 win     0.0037 states\n",
      "4        0.0034 add      0.0033 change  ...  0.0045 player   0.0036 question\n",
      "5      0.0033 price        0.0033 tell  ...  0.0042 second       0.0036 tell\n",
      "6   0.0033 american         0.0032 man  ...    0.0035 turn  0.0036 political\n",
      "7  0.0032 president        0.0029 home  ...   0.0034 point     0.0035 public\n",
      "8     0.0031 states        0.0029 hold  ...   0.0032 score     0.0035 change\n",
      "9   0.0031 business  0.0027 government  ...  0.0032 season      0.0034 place\n",
      "\n",
      "[10 rows x 25 columns]\n"
     ]
    }
   ],
   "source": [
    "!python ./src/serial_sqr.py"
   ]
  },
  {
   "cell_type": "code",
   "execution_count": 40,
   "id": "8b411763-57e4-4638-8002-6ed72da42f88",
   "metadata": {},
   "outputs": [
    {
     "name": "stdout",
     "output_type": "stream",
     "text": [
      "iteration 10\n",
      "Trained in 16130.309104919434 ms\n",
      "            Topic_1          Topic_2  ...       Topic_24         Topic_25\n",
      "0    0.0045 percent     0.0037 group  ...    0.0107 play   0.0039 country\n",
      "1    0.0041 company  0.0036 american  ...    0.0072 game     0.0039 state\n",
      "2  0.0040 president    0.0034 states  ...    0.0057 team    0.0038 states\n",
      "3     0.0035 market    0.0034 change  ...  0.0056 second     0.0037 issue\n",
      "4        0.0032 add      0.0032 plan  ...     0.0052 win      0.0035 tell\n",
      "5      0.0032 large     0.0031 world  ...   0.0049 score  0.0034 official\n",
      "6   0.0031 business   0.0030 program  ...   0.0046 night       0.0034 man\n",
      "7    0.0031 receive      0.0029 tell  ...  0.0046 player  0.0034 question\n",
      "8     0.0031 states      0.0029 hold  ...   0.0042 point     0.0033 place\n",
      "9     0.0030 number    0.0028 member  ...  0.0041 season      0.0032 case\n",
      "\n",
      "[10 rows x 25 columns]\n"
     ]
    }
   ],
   "source": [
    "!python ./src/serial_div.py"
   ]
  },
  {
   "cell_type": "code",
   "execution_count": null,
   "id": "19bc1a27-0e9b-44f5-aa42-0ffd39b060aa",
   "metadata": {},
   "outputs": [],
   "source": [
    "from utils.context import Context\n",
    "\n",
    "%load_ext autoreload\n",
    "%autoreload 2\n",
    "\n",
    "BLOCK_SIZE = 32\n",
    "context = Context(BLOCK_SIZE)\n",
    "\n",
    "matrix_multiplication_kernel_path = './kernels/NMF.cu'\n",
    "# matrix_multiplication = context.getSourceModule(matrix_multiplication_kernel_path).get_function('MatMul')"
   ]
  },
  {
   "cell_type": "code",
   "execution_count": 14,
   "id": "bdfe48e8-32b4-48b0-bb62-dd0b73351e9c",
   "metadata": {},
   "outputs": [
    {
     "name": "stdout",
     "output_type": "stream",
     "text": [
      "The autoreload extension is already loaded. To reload it, use:\n",
      "  %reload_ext autoreload\n"
     ]
    }
   ],
   "source": [
    "from src.data_utils import get_matrices\n",
    "\n",
    "%load_ext autoreload\n",
    "%autoreload 2"
   ]
  },
  {
   "cell_type": "code",
   "execution_count": 42,
   "id": "6120cb33-826c-447a-b534-8f83cce75322",
   "metadata": {},
   "outputs": [],
   "source": [
    "X, W, H = get_matrices(67)"
   ]
  },
  {
   "cell_type": "code",
   "execution_count": null,
   "id": "50169484-dbbd-4857-a137-e6ee268a430b",
   "metadata": {},
   "outputs": [],
   "source": []
  }
 ],
 "metadata": {
  "kernelspec": {
   "display_name": "cudaEnv",
   "language": "python",
   "name": "cudaenv"
  },
  "language_info": {
   "codemirror_mode": {
    "name": "ipython",
    "version": 3
   },
   "file_extension": ".py",
   "mimetype": "text/x-python",
   "name": "python",
   "nbconvert_exporter": "python",
   "pygments_lexer": "ipython3",
   "version": "3.6.9"
  }
 },
 "nbformat": 4,
 "nbformat_minor": 5
}
