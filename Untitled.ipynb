{
 "cells": [
  {
   "cell_type": "code",
   "execution_count": null,
   "id": "4d1b863d-ca31-4877-b4a6-2ad7a86795db",
   "metadata": {},
   "outputs": [],
   "source": [
    "!python ./src/serial_sqr_sklearn.py"
   ]
  },
  {
   "cell_type": "code",
   "execution_count": null,
   "id": "796103ae-8ede-4985-89ac-649c42eba9c6",
   "metadata": {},
   "outputs": [],
   "source": [
    "!python ./src/serial_sqr.py"
   ]
  },
  {
   "cell_type": "code",
   "execution_count": null,
   "id": "8b411763-57e4-4638-8002-6ed72da42f88",
   "metadata": {},
   "outputs": [],
   "source": [
    "!python ./src/serial_div.py"
   ]
  },
  {
   "cell_type": "code",
   "execution_count": null,
   "id": "19bc1a27-0e9b-44f5-aa42-0ffd39b060aa",
   "metadata": {},
   "outputs": [],
   "source": [
    "from utils.context import Context\n",
    "\n",
    "%load_ext autoreload\n",
    "%autoreload 2\n",
    "\n",
    "BLOCK_SIZE = 32\n",
    "context = Context(BLOCK_SIZE)\n",
    "\n",
    "matrix_multiplication_kernel_path = './kernels/NMF.cu'\n",
    "# matrix_multiplication = context.getSourceModule(matrix_multiplication_kernel_path).get_function('MatMul')"
   ]
  },
  {
   "cell_type": "code",
   "execution_count": null,
   "id": "bdfe48e8-32b4-48b0-bb62-dd0b73351e9c",
   "metadata": {},
   "outputs": [],
   "source": [
    "from src.data_utils import get_matrices\n",
    "\n",
    "%load_ext autoreload\n",
    "%autoreload 2"
   ]
  },
  {
   "cell_type": "code",
   "execution_count": null,
   "id": "6120cb33-826c-447a-b534-8f83cce75322",
   "metadata": {},
   "outputs": [],
   "source": [
    "X, W, H = get_matrices(67)"
   ]
  },
  {
   "cell_type": "code",
   "execution_count": null,
   "id": "50169484-dbbd-4857-a137-e6ee268a430b",
   "metadata": {},
   "outputs": [],
   "source": [
    "!python ./src/cuda.py"
   ]
  },
  {
   "cell_type": "code",
   "execution_count": 1,
   "id": "71473dd5-dea0-41d6-84ad-c3c80ee459be",
   "metadata": {},
   "outputs": [],
   "source": [
    "from src.nmf import NMF_parallel\n",
    "from src.data_utils import get_matrices\n",
    "\n",
    "%load_ext autoreload\n",
    "%autoreload 2"
   ]
  },
  {
   "cell_type": "code",
   "execution_count": 44,
   "id": "9aeeb3ac-9bc5-4228-93c9-49d2e02807fc",
   "metadata": {},
   "outputs": [
    {
     "name": "stdout",
     "output_type": "stream",
     "text": [
      "iteration 10\n",
      "iteration 20\n",
      "iteration 30\n",
      "iteration 40\n",
      "iteration 50\n",
      "iteration 60\n",
      "iteration 70\n",
      "iteration 80\n",
      "iteration 90\n",
      "iteration 100\n"
     ]
    }
   ],
   "source": [
    "K = 25\n",
    "X, W, H = get_matrices(K)\n",
    "W, H, ex_time = NMF_parallel(X, W, H)"
   ]
  },
  {
   "cell_type": "code",
   "execution_count": null,
   "id": "9c9bd6aa-1b1f-465a-8948-562d593f0434",
   "metadata": {},
   "outputs": [],
   "source": []
  }
 ],
 "metadata": {
  "kernelspec": {
   "display_name": "cudaEnv",
   "language": "python",
   "name": "cudaenv"
  },
  "language_info": {
   "codemirror_mode": {
    "name": "ipython",
    "version": 3
   },
   "file_extension": ".py",
   "mimetype": "text/x-python",
   "name": "python",
   "nbconvert_exporter": "python",
   "pygments_lexer": "ipython3",
   "version": "3.6.9"
  }
 },
 "nbformat": 4,
 "nbformat_minor": 5
}
