{
 "cells": [
  {
   "cell_type": "code",
   "execution_count": 15,
   "id": "4d1b863d-ca31-4877-b4a6-2ad7a86795db",
   "metadata": {},
   "outputs": [
    {
     "name": "stdout",
     "output_type": "stream",
     "text": [
      "/home/alexangus/envs/cudaEnv/lib/python3.6/site-packages/sklearn/decomposition/_nmf.py:1091: ConvergenceWarning: Maximum number of iterations 100 reached. Increase it to improve convergence.\n",
      "  \" improve convergence.\" % max_iter, ConvergenceWarning)\n",
      "Trained in 14.875048160552979 s\n",
      "         Topic_1           Topic_2  ...       Topic_24          Topic_25\n",
      "0   0.0239 thing  0.1837 yesterday  ...   0.0109 serve     0.0450 school\n",
      "1     0.0136 ask      0.0195 close  ...     0.0104 add    0.0362 student\n",
      "2    0.0134 feel       0.0177 news  ...  0.0096 minute  0.0167 education\n",
      "3     0.0124 put   0.0164 announce  ...  0.0094 pepper    0.0146 teacher\n",
      "4     0.0112 lot       0.0156 city  ...     0.0092 oil    0.0139 program\n",
      "5    0.0111 tell       0.0131 late  ...     0.0089 cup    0.0138 college\n",
      "6  0.0110 really     0.0106 expect  ...    0.0088 cook      0.0132 child\n",
      "7    0.0098 keep        0.0105 add  ...    0.0086 food      0.0131 class\n",
      "8  0.0089 happen   0.0100 continue  ...   0.0083 sauce     0.0114 parent\n",
      "9  0.0086 little      0.0094 night  ...   0.0081 taste     0.0091 public\n",
      "\n",
      "[10 rows x 25 columns]\n"
     ]
    }
   ],
   "source": [
    "!python ./serial_sqr_sklearn.py"
   ]
  },
  {
   "cell_type": "code",
   "execution_count": 16,
   "id": "796103ae-8ede-4985-89ac-649c42eba9c6",
   "metadata": {},
   "outputs": [
    {
     "name": "stdout",
     "output_type": "stream",
     "text": [
      "iteration 10\n",
      "iteration 20\n",
      "iteration 30\n",
      "iteration 40\n",
      "iteration 50\n",
      "iteration 60\n",
      "iteration 70\n",
      "iteration 80\n",
      "iteration 90\n",
      "iteration 100\n",
      "Trained in 64.12131404876709 s\n",
      "           Topic_1               Topic_2  ...        Topic_24          Topic_25\n",
      "0   0.0240 percent         0.0623 states  ...     0.0245 play     0.0129 public\n",
      "1      0.0197 rate       0.0546 american  ...     0.0241 team     0.0093 change\n",
      "2  0.0159 increase        0.0426 country  ...     0.0240 game      0.0091 issue\n",
      "3      0.0155 rise          0.0236 world  ...   0.0190 player      0.0084 power\n",
      "4   0.0133 economy      0.0150 americans  ...   0.0164 season     0.0078 policy\n",
      "5    0.0123 report  0.0135 international  ...    0.0140 point  0.0069 political\n",
      "6       0.0113 low        0.0133 foreign  ...      0.0135 win    0.0062 problem\n",
      "7  0.0111 economic         0.0098 nation  ...    0.0116 coach     0.0057 system\n",
      "8    0.0102 growth       0.0098 european  ...   0.0097 second    0.0056 believe\n",
      "9   0.0085 decline          0.0093 trade  ...  0.0088 victory       0.0047 view\n",
      "\n",
      "[10 rows x 25 columns]\n"
     ]
    }
   ],
   "source": [
    "!python ./serial_sqr.py"
   ]
  },
  {
   "cell_type": "code",
   "execution_count": 14,
   "id": "8b411763-57e4-4638-8002-6ed72da42f88",
   "metadata": {},
   "outputs": [
    {
     "name": "stdout",
     "output_type": "stream",
     "text": [
      "iteration 10\n",
      "iteration 20\n",
      "iteration 30\n",
      "iteration 40\n",
      "iteration 50\n",
      "iteration 60\n",
      "iteration 70\n",
      "iteration 80\n",
      "iteration 90\n",
      "iteration 100\n",
      "           Topic_1               Topic_2  ...        Topic_24          Topic_25\n",
      "0   0.0240 percent         0.0623 states  ...     0.0245 play     0.0129 public\n",
      "1      0.0197 rate       0.0546 american  ...     0.0241 team     0.0093 change\n",
      "2  0.0159 increase        0.0426 country  ...     0.0240 game      0.0091 issue\n",
      "3      0.0155 rise          0.0236 world  ...   0.0190 player      0.0084 power\n",
      "4   0.0133 economy      0.0150 americans  ...   0.0164 season     0.0078 policy\n",
      "5    0.0123 report  0.0135 international  ...    0.0140 point  0.0069 political\n",
      "6       0.0113 low        0.0133 foreign  ...      0.0135 win    0.0062 problem\n",
      "7  0.0111 economic         0.0098 nation  ...    0.0116 coach     0.0057 system\n",
      "8    0.0102 growth       0.0098 european  ...   0.0097 second    0.0056 believe\n",
      "9   0.0085 decline          0.0093 trade  ...  0.0088 victory       0.0047 view\n",
      "\n",
      "[10 rows x 25 columns]\n"
     ]
    }
   ],
   "source": [
    "!python ./serial_sqr.py"
   ]
  },
  {
   "cell_type": "code",
   "execution_count": null,
   "id": "19bc1a27-0e9b-44f5-aa42-0ffd39b060aa",
   "metadata": {},
   "outputs": [],
   "source": []
  }
 ],
 "metadata": {
  "kernelspec": {
   "display_name": "Python 3",
   "language": "python",
   "name": "python3"
  },
  "language_info": {
   "codemirror_mode": {
    "name": "ipython",
    "version": 3
   },
   "file_extension": ".py",
   "mimetype": "text/x-python",
   "name": "python",
   "nbconvert_exporter": "python",
   "pygments_lexer": "ipython3",
   "version": "3.6.9"
  }
 },
 "nbformat": 4,
 "nbformat_minor": 5
}
