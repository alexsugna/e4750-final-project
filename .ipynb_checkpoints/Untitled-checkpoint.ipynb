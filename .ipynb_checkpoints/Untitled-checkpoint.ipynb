{
 "cells": [
  {
   "cell_type": "code",
   "execution_count": null,
   "id": "4d1b863d-ca31-4877-b4a6-2ad7a86795db",
   "metadata": {},
   "outputs": [],
   "source": [
    "!python ./src/serial_sqr_sklearn.py"
   ]
  },
  {
   "cell_type": "code",
   "execution_count": 31,
   "id": "796103ae-8ede-4985-89ac-649c42eba9c6",
   "metadata": {},
   "outputs": [
    {
     "name": "stdout",
     "output_type": "stream",
     "text": [
      "iteration 10\n",
      "Trained in 6402.601480484009 ms\n",
      "            Topic_1            Topic_2  ...       Topic_24          Topic_25\n",
      "0    0.0046 percent    0.0042 american  ...    0.0086 play      0.0044 issue\n",
      "1     0.0042 market      0.0036 states  ...    0.0063 game    0.0044 country\n",
      "2    0.0035 company       0.0035 group  ...    0.0055 team      0.0040 state\n",
      "3      0.0035 large       0.0033 world  ...     0.0049 win     0.0037 states\n",
      "4        0.0034 add      0.0033 change  ...  0.0045 player   0.0036 question\n",
      "5      0.0033 price        0.0033 tell  ...  0.0042 second       0.0036 tell\n",
      "6   0.0033 american         0.0032 man  ...    0.0035 turn  0.0036 political\n",
      "7  0.0032 president        0.0029 home  ...   0.0034 point     0.0035 public\n",
      "8     0.0031 states        0.0029 hold  ...   0.0032 score     0.0035 change\n",
      "9   0.0031 business  0.0027 government  ...  0.0032 season      0.0034 place\n",
      "\n",
      "[10 rows x 25 columns]\n"
     ]
    }
   ],
   "source": [
    "!python ./src/serial_sqr.py"
   ]
  },
  {
   "cell_type": "code",
   "execution_count": null,
   "id": "8b411763-57e4-4638-8002-6ed72da42f88",
   "metadata": {},
   "outputs": [],
   "source": [
    "!python ./src/serial_div.py"
   ]
  },
  {
   "cell_type": "code",
   "execution_count": null,
   "id": "19bc1a27-0e9b-44f5-aa42-0ffd39b060aa",
   "metadata": {},
   "outputs": [],
   "source": [
    "from utils.context import Context\n",
    "\n",
    "%load_ext autoreload\n",
    "%autoreload 2\n",
    "\n",
    "BLOCK_SIZE = 32\n",
    "context = Context(BLOCK_SIZE)\n",
    "\n",
    "matrix_multiplication_kernel_path = './kernels/NMF.cu'\n",
    "# matrix_multiplication = context.getSourceModule(matrix_multiplication_kernel_path).get_function('MatMul')"
   ]
  },
  {
   "cell_type": "code",
   "execution_count": 14,
   "id": "bdfe48e8-32b4-48b0-bb62-dd0b73351e9c",
   "metadata": {},
   "outputs": [
    {
     "name": "stdout",
     "output_type": "stream",
     "text": [
      "The autoreload extension is already loaded. To reload it, use:\n",
      "  %reload_ext autoreload\n"
     ]
    }
   ],
   "source": [
    "from src.data_utils import get_matrices\n",
    "\n",
    "%load_ext autoreload\n",
    "%autoreload 2"
   ]
  },
  {
   "cell_type": "code",
   "execution_count": 15,
   "id": "6120cb33-826c-447a-b534-8f83cce75322",
   "metadata": {},
   "outputs": [
    {
     "ename": "NameError",
     "evalue": "name 'K' is not defined",
     "output_type": "error",
     "traceback": [
      "\u001b[0;31m---------------------------------------------------------------------------\u001b[0m",
      "\u001b[0;31mNameError\u001b[0m                                 Traceback (most recent call last)",
      "\u001b[0;32m<ipython-input-15-15f4b892bab4>\u001b[0m in \u001b[0;36m<module>\u001b[0;34m\u001b[0m\n\u001b[0;32m----> 1\u001b[0;31m \u001b[0mX\u001b[0m\u001b[0;34m,\u001b[0m \u001b[0mW\u001b[0m\u001b[0;34m,\u001b[0m \u001b[0mH\u001b[0m \u001b[0;34m=\u001b[0m \u001b[0mget_matrices\u001b[0m\u001b[0;34m(\u001b[0m\u001b[0;34m)\u001b[0m\u001b[0;34m\u001b[0m\u001b[0;34m\u001b[0m\u001b[0m\n\u001b[0m",
      "\u001b[0;32m~/e4750-final-project/src/data_utils.py\u001b[0m in \u001b[0;36mget_matrices\u001b[0;34m()\u001b[0m\n\u001b[1;32m     27\u001b[0m     \u001b[0mnp\u001b[0m\u001b[0;34m.\u001b[0m\u001b[0mrandom\u001b[0m\u001b[0;34m.\u001b[0m\u001b[0mseed\u001b[0m\u001b[0;34m(\u001b[0m\u001b[0;36m0\u001b[0m\u001b[0;34m)\u001b[0m\u001b[0;34m\u001b[0m\u001b[0;34m\u001b[0m\u001b[0m\n\u001b[1;32m     28\u001b[0m \u001b[0;34m\u001b[0m\u001b[0m\n\u001b[0;32m---> 29\u001b[0;31m     \u001b[0mW\u001b[0m \u001b[0;34m=\u001b[0m \u001b[0mnp\u001b[0m\u001b[0;34m.\u001b[0m\u001b[0mrandom\u001b[0m\u001b[0;34m.\u001b[0m\u001b[0muniform\u001b[0m\u001b[0;34m(\u001b[0m\u001b[0;36m1\u001b[0m\u001b[0;34m,\u001b[0m \u001b[0;36m2\u001b[0m\u001b[0;34m,\u001b[0m \u001b[0;34m(\u001b[0m\u001b[0mN\u001b[0m\u001b[0;34m,\u001b[0m \u001b[0mK\u001b[0m\u001b[0;34m)\u001b[0m\u001b[0;34m)\u001b[0m \u001b[0;31m#initialize W and H to random values between 1 and 2\u001b[0m\u001b[0;34m\u001b[0m\u001b[0;34m\u001b[0m\u001b[0m\n\u001b[0m\u001b[1;32m     30\u001b[0m     \u001b[0mH\u001b[0m \u001b[0;34m=\u001b[0m \u001b[0mnp\u001b[0m\u001b[0;34m.\u001b[0m\u001b[0mrandom\u001b[0m\u001b[0;34m.\u001b[0m\u001b[0muniform\u001b[0m\u001b[0;34m(\u001b[0m\u001b[0;36m1\u001b[0m\u001b[0;34m,\u001b[0m \u001b[0;36m2\u001b[0m\u001b[0;34m,\u001b[0m \u001b[0;34m(\u001b[0m\u001b[0mK\u001b[0m\u001b[0;34m,\u001b[0m \u001b[0mM\u001b[0m\u001b[0;34m)\u001b[0m\u001b[0;34m)\u001b[0m\u001b[0;34m\u001b[0m\u001b[0;34m\u001b[0m\u001b[0m\n\u001b[1;32m     31\u001b[0m \u001b[0;34m\u001b[0m\u001b[0m\n",
      "\u001b[0;31mNameError\u001b[0m: name 'K' is not defined"
     ]
    }
   ],
   "source": [
    "X, W, H = get_matrices()"
   ]
  },
  {
   "cell_type": "code",
   "execution_count": null,
   "id": "50169484-dbbd-4857-a137-e6ee268a430b",
   "metadata": {},
   "outputs": [],
   "source": []
  }
 ],
 "metadata": {
  "kernelspec": {
   "display_name": "cudaEnv",
   "language": "python",
   "name": "cudaenv"
  },
  "language_info": {
   "codemirror_mode": {
    "name": "ipython",
    "version": 3
   },
   "file_extension": ".py",
   "mimetype": "text/x-python",
   "name": "python",
   "nbconvert_exporter": "python",
   "pygments_lexer": "ipython3",
   "version": "3.6.9"
  }
 },
 "nbformat": 4,
 "nbformat_minor": 5
}
