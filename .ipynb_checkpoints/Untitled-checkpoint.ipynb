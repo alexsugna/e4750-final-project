{
 "cells": [
  {
   "cell_type": "code",
   "execution_count": null,
   "id": "4d1b863d-ca31-4877-b4a6-2ad7a86795db",
   "metadata": {},
   "outputs": [],
   "source": [
    "!python ./src/serial_sqr_sklearn.py"
   ]
  },
  {
   "cell_type": "code",
   "execution_count": null,
   "id": "796103ae-8ede-4985-89ac-649c42eba9c6",
   "metadata": {},
   "outputs": [],
   "source": [
    "!python ./src/serial_sqr.py"
   ]
  },
  {
   "cell_type": "code",
   "execution_count": null,
   "id": "8b411763-57e4-4638-8002-6ed72da42f88",
   "metadata": {},
   "outputs": [],
   "source": [
    "!python ./src/serial_div.py"
   ]
  },
  {
   "cell_type": "code",
   "execution_count": null,
   "id": "19bc1a27-0e9b-44f5-aa42-0ffd39b060aa",
   "metadata": {},
   "outputs": [],
   "source": [
    "from utils.context import Context\n",
    "\n",
    "%load_ext autoreload\n",
    "%autoreload 2\n",
    "\n",
    "BLOCK_SIZE = 32\n",
    "context = Context(BLOCK_SIZE)\n",
    "\n",
    "matrix_multiplication_kernel_path = './kernels/NMF.cu'\n",
    "# matrix_multiplication = context.getSourceModule(matrix_multiplication_kernel_path).get_function('MatMul')"
   ]
  },
  {
   "cell_type": "code",
   "execution_count": null,
   "id": "bdfe48e8-32b4-48b0-bb62-dd0b73351e9c",
   "metadata": {},
   "outputs": [],
   "source": [
    "from src.data_utils import get_matrices\n",
    "\n",
    "%load_ext autoreload\n",
    "%autoreload 2"
   ]
  },
  {
   "cell_type": "code",
   "execution_count": null,
   "id": "6120cb33-826c-447a-b534-8f83cce75322",
   "metadata": {},
   "outputs": [],
   "source": [
    "X, W, H = get_matrices(67)"
   ]
  },
  {
   "cell_type": "code",
   "execution_count": null,
   "id": "50169484-dbbd-4857-a137-e6ee268a430b",
   "metadata": {},
   "outputs": [],
   "source": [
    "!python ./src/cuda.py"
   ]
  },
  {
   "cell_type": "code",
   "execution_count": 1,
   "id": "71473dd5-dea0-41d6-84ad-c3c80ee459be",
   "metadata": {},
   "outputs": [],
   "source": [
    "from src.nmf import NMF_parallel\n",
    "from src.data_utils import get_matrices\n",
    "\n",
    "%load_ext autoreload\n",
    "%autoreload 2"
   ]
  },
  {
   "cell_type": "code",
   "execution_count": 34,
   "id": "9aeeb3ac-9bc5-4228-93c9-49d2e02807fc",
   "metadata": {},
   "outputs": [
    {
     "name": "stdout",
     "output_type": "stream",
     "text": [
      "(3012, 8447)\n"
     ]
    },
    {
     "ename": "NameError",
     "evalue": "name 'euclidean_loss_parallel' is not defined",
     "output_type": "error",
     "traceback": [
      "\u001b[0;31m---------------------------------------------------------------------------\u001b[0m",
      "\u001b[0;31mNameError\u001b[0m                                 Traceback (most recent call last)",
      "\u001b[0;32m<ipython-input-34-aba57e0e8009>\u001b[0m in \u001b[0;36m<module>\u001b[0;34m\u001b[0m\n\u001b[1;32m      2\u001b[0m \u001b[0mX\u001b[0m\u001b[0;34m,\u001b[0m \u001b[0mW\u001b[0m\u001b[0;34m,\u001b[0m \u001b[0mH\u001b[0m \u001b[0;34m=\u001b[0m \u001b[0mget_matrices\u001b[0m\u001b[0;34m(\u001b[0m\u001b[0mK\u001b[0m\u001b[0;34m)\u001b[0m\u001b[0;34m\u001b[0m\u001b[0;34m\u001b[0m\u001b[0m\n\u001b[1;32m      3\u001b[0m \u001b[0mprint\u001b[0m\u001b[0;34m(\u001b[0m\u001b[0mX\u001b[0m\u001b[0;34m.\u001b[0m\u001b[0mshape\u001b[0m\u001b[0;34m)\u001b[0m\u001b[0;34m\u001b[0m\u001b[0;34m\u001b[0m\u001b[0m\n\u001b[0;32m----> 4\u001b[0;31m \u001b[0mW\u001b[0m\u001b[0;34m,\u001b[0m \u001b[0mH\u001b[0m\u001b[0;34m,\u001b[0m \u001b[0mex_time\u001b[0m \u001b[0;34m=\u001b[0m \u001b[0mNMF_parallel\u001b[0m\u001b[0;34m(\u001b[0m\u001b[0mX\u001b[0m\u001b[0;34m,\u001b[0m \u001b[0mW\u001b[0m\u001b[0;34m,\u001b[0m \u001b[0mH\u001b[0m\u001b[0;34m)\u001b[0m\u001b[0;34m\u001b[0m\u001b[0;34m\u001b[0m\u001b[0m\n\u001b[0m",
      "\u001b[0;32m~/e4750-final-project/src/nmf.py\u001b[0m in \u001b[0;36mNMF_parallel\u001b[0;34m(X, W, H, iterations, loss, eps, return_time)\u001b[0m\n\u001b[1;32m    227\u001b[0m \u001b[0;34m\u001b[0m\u001b[0m\n\u001b[1;32m    228\u001b[0m         \u001b[0;31m#W = W * X.dot(Ht) / (W.dot(H).dot(Ht) + err) #update W\u001b[0m\u001b[0;34m\u001b[0m\u001b[0;34m\u001b[0m\u001b[0;34m\u001b[0m\u001b[0m\n\u001b[0;32m--> 229\u001b[0;31m         \u001b[0meuclidean_loss\u001b[0m \u001b[0;34m=\u001b[0m \u001b[0meuclidean_loss_parallel\u001b[0m\u001b[0;34m(\u001b[0m\u001b[0mX_d\u001b[0m\u001b[0;34m,\u001b[0m \u001b[0mWH_d\u001b[0m\u001b[0;34m,\u001b[0m \u001b[0mN\u001b[0m\u001b[0;34m,\u001b[0m \u001b[0mM\u001b[0m\u001b[0;34m,\u001b[0m \u001b[0mcontext\u001b[0m\u001b[0;34m,\u001b[0m \u001b[0msrc_mod\u001b[0m\u001b[0;34m)\u001b[0m\u001b[0;34m\u001b[0m\u001b[0;34m\u001b[0m\u001b[0m\n\u001b[0m\u001b[1;32m    230\u001b[0m         \u001b[0mprint\u001b[0m\u001b[0;34m(\u001b[0m\u001b[0meuclidean_loss\u001b[0m\u001b[0;34m)\u001b[0m\u001b[0;34m\u001b[0m\u001b[0;34m\u001b[0m\u001b[0m\n\u001b[1;32m    231\u001b[0m     \u001b[0;31m#g_end.record()\u001b[0m\u001b[0;34m\u001b[0m\u001b[0;34m\u001b[0m\u001b[0;34m\u001b[0m\u001b[0m\n",
      "\u001b[0;31mNameError\u001b[0m: name 'euclidean_loss_parallel' is not defined"
     ]
    }
   ],
   "source": [
    "K = 25\n",
    "X, W, H = get_matrices(K)\n",
    "W, H, ex_time = NMF_parallel(X, W, H)"
   ]
  },
  {
   "cell_type": "code",
   "execution_count": null,
   "id": "9c9bd6aa-1b1f-465a-8948-562d593f0434",
   "metadata": {},
   "outputs": [],
   "source": []
  }
 ],
 "metadata": {
  "kernelspec": {
   "display_name": "cudaEnv",
   "language": "python",
   "name": "cudaenv"
  },
  "language_info": {
   "codemirror_mode": {
    "name": "ipython",
    "version": 3
   },
   "file_extension": ".py",
   "mimetype": "text/x-python",
   "name": "python",
   "nbconvert_exporter": "python",
   "pygments_lexer": "ipython3",
   "version": "3.6.9"
  }
 },
 "nbformat": 4,
 "nbformat_minor": 5
}
