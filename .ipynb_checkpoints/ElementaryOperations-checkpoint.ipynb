{
 "cells": [
  {
   "cell_type": "markdown",
   "id": "c854cd06-555e-41df-aaac-67be4db09cbf",
   "metadata": {},
   "source": [
    "# Notebook for Elementary Operation Experimentation"
   ]
  },
  {
   "cell_type": "code",
   "execution_count": 1,
   "id": "852f59c8-ce39-4c3e-b8db-7c0024caea00",
   "metadata": {},
   "outputs": [],
   "source": [
    "import numpy as np\n",
    "import pycuda.gpuarray as gpuarray\n",
    "\n",
    "from utils.context import Context\n",
    "\n",
    "\n",
    "%load_ext autoreload\n",
    "%autoreload 2"
   ]
  },
  {
   "cell_type": "markdown",
   "id": "df99a009-06fe-49ea-b588-9eef07454fc6",
   "metadata": {},
   "source": [
    "## Matrix Multiplication"
   ]
  },
  {
   "cell_type": "code",
   "execution_count": 2,
   "id": "a36afc45-5fc3-4b9f-a9d2-5f7743e54cac",
   "metadata": {},
   "outputs": [],
   "source": [
    "BLOCK_SIZE = 32\n",
    "context = Context(BLOCK_SIZE)\n",
    "\n",
    "matrix_multiplication_kernel_path = './kernels/MatrixMultiplication.cu'\n",
    "matrix_multiplication = context.getSourceModule(matrix_multiplication_kernel_path).get_function('MatMul')\n"
   ]
  },
  {
   "cell_type": "markdown",
   "id": "a06e637d-2ad1-4e95-bca7-62d5a0d2084b",
   "metadata": {},
   "source": [
    "### Test Cases\n",
    "\n",
    "Sequential"
   ]
  },
  {
   "cell_type": "code",
   "execution_count": 3,
   "id": "52af6299-1877-4069-bb7e-25d9e5a3c098",
   "metadata": {},
   "outputs": [
    {
     "name": "stdout",
     "output_type": "stream",
     "text": [
      "[[4 4 1 4]\n",
      " [0 0 0 1]]\n",
      "[[3 0]\n",
      " [2 4]\n",
      " [4 4]\n",
      " [1 2]]\n",
      "[[28 28]\n",
      " [ 1  2]]\n"
     ]
    }
   ],
   "source": [
    "a = np.random.randint(5, size=(2, 4))\n",
    "b = np.random.randint(5, size=(4, 2))\n",
    "c_python = np.matmul(a, b)\n",
    "\n",
    "print(a)\n",
    "print(b)\n",
    "print(c_python)"
   ]
  },
  {
   "cell_type": "markdown",
   "id": "aae34558-1c60-48fd-b96a-4489e9cf278f",
   "metadata": {},
   "source": [
    "Parallel"
   ]
  },
  {
   "cell_type": "code",
   "execution_count": 4,
   "id": "2fa9d68a-fdb2-4715-a33f-7d3f84c35513",
   "metadata": {},
   "outputs": [
    {
     "name": "stdout",
     "output_type": "stream",
     "text": [
      "[[28. 28.]\n",
      " [ 1.  2.]]\n"
     ]
    }
   ],
   "source": [
    "a = a.astype(np.float32)\n",
    "b = b.astype(np.float32)\n",
    "c = np.zeros((a.shape[0], b.shape[1])).astype(np.float32)\n",
    "\n",
    "a_d = gpuarray.to_gpu(a)\n",
    "b_d = gpuarray.to_gpu(b)\n",
    "c_d = gpuarray.to_gpu(c)\n",
    "\n",
    "block = context.block_dims\n",
    "grid = context.grid_dims(max([a.shape[0], b.shape[1]]))\n",
    "\n",
    "matrix_multiplication(a_d, b_d, c_d, np.int32(a.shape[0]), \n",
    "                      np.int32(a.shape[1]), np.int32(b.shape[0]), \n",
    "                      np.int32(b.shape[1]), np.int32(c.shape[0]), np.int32(c.shape[1]),\n",
    "                      block=block, grid=grid)\n",
    "\n",
    "c = c_d.get()\n",
    "\n",
    "print(c)\n"
   ]
  },
  {
   "cell_type": "markdown",
   "id": "182f02b3-a0cc-4902-85a5-bd14d1a0d9fa",
   "metadata": {},
   "source": [
    "## Matrix Transpose\n",
    "\n",
    "Not working, look through this later."
   ]
  },
  {
   "cell_type": "code",
   "execution_count": 50,
   "id": "c4ae7efc-6fd6-47aa-bdcb-9f01418521a9",
   "metadata": {},
   "outputs": [],
   "source": [
    "matrix_transpose_kernel_path = './kernels/MatrixTranspose.cu'\n",
    "matrix_transpose = context.getSourceModule(matrix_transpose_kernel_path).get_function('MatTrans')\n"
   ]
  },
  {
   "cell_type": "markdown",
   "id": "e8b18d36-9952-44d3-9919-fd4dd1d00e52",
   "metadata": {},
   "source": [
    "### Test Cases"
   ]
  },
  {
   "cell_type": "code",
   "execution_count": 53,
   "id": "174f4f1a-4620-4755-a9fb-eaceab71905d",
   "metadata": {},
   "outputs": [
    {
     "name": "stdout",
     "output_type": "stream",
     "text": [
      "[[1 1 4 ... 3 0 0]\n",
      " [4 0 0 ... 0 1 2]\n",
      " [1 1 2 ... 2 0 2]\n",
      " ...\n",
      " [4 2 1 ... 1 2 4]\n",
      " [0 4 3 ... 4 2 4]\n",
      " [0 3 4 ... 4 4 4]]\n",
      "\n",
      "[[1 4 1 ... 4 0 0]\n",
      " [1 0 1 ... 2 4 3]\n",
      " [4 0 2 ... 1 3 4]\n",
      " ...\n",
      " [3 0 2 ... 1 4 4]\n",
      " [0 1 0 ... 2 2 4]\n",
      " [0 2 2 ... 4 4 4]]\n"
     ]
    }
   ],
   "source": [
    "a = np.random.randint(5, size=(32, 32))\n",
    "a_t = a.T\n",
    "print(a)\n",
    "print()\n",
    "print(a_t)"
   ]
  },
  {
   "cell_type": "code",
   "execution_count": 55,
   "id": "c6b2670f-9fad-47cf-b109-c145d394f6e2",
   "metadata": {},
   "outputs": [
    {
     "ename": "LogicError",
     "evalue": "cuMemAlloc failed: an illegal memory access was encountered",
     "output_type": "error",
     "traceback": [
      "\u001b[0;31m---------------------------------------------------------------------------\u001b[0m",
      "\u001b[0;31mLogicError\u001b[0m                                Traceback (most recent call last)",
      "\u001b[0;32m<ipython-input-55-61b0057db32e>\u001b[0m in \u001b[0;36m<module>\u001b[0;34m\u001b[0m\n\u001b[1;32m      2\u001b[0m \u001b[0mb\u001b[0m \u001b[0;34m=\u001b[0m \u001b[0mnp\u001b[0m\u001b[0;34m.\u001b[0m\u001b[0mzeros\u001b[0m\u001b[0;34m(\u001b[0m\u001b[0ma\u001b[0m\u001b[0;34m.\u001b[0m\u001b[0mshape\u001b[0m\u001b[0;34m)\u001b[0m\u001b[0;34m.\u001b[0m\u001b[0mastype\u001b[0m\u001b[0;34m(\u001b[0m\u001b[0mnp\u001b[0m\u001b[0;34m.\u001b[0m\u001b[0mfloat32\u001b[0m\u001b[0;34m)\u001b[0m\u001b[0;34m\u001b[0m\u001b[0;34m\u001b[0m\u001b[0m\n\u001b[1;32m      3\u001b[0m \u001b[0;34m\u001b[0m\u001b[0m\n\u001b[0;32m----> 4\u001b[0;31m \u001b[0ma_d\u001b[0m \u001b[0;34m=\u001b[0m \u001b[0mgpuarray\u001b[0m\u001b[0;34m.\u001b[0m\u001b[0mto_gpu\u001b[0m\u001b[0;34m(\u001b[0m\u001b[0ma\u001b[0m\u001b[0;34m)\u001b[0m\u001b[0;34m\u001b[0m\u001b[0;34m\u001b[0m\u001b[0m\n\u001b[0m\u001b[1;32m      5\u001b[0m \u001b[0mb_d\u001b[0m \u001b[0;34m=\u001b[0m \u001b[0mgpuarray\u001b[0m\u001b[0;34m.\u001b[0m\u001b[0mto_gpu\u001b[0m\u001b[0;34m(\u001b[0m\u001b[0mb\u001b[0m\u001b[0;34m)\u001b[0m\u001b[0;34m\u001b[0m\u001b[0;34m\u001b[0m\u001b[0m\n\u001b[1;32m      6\u001b[0m \u001b[0;34m\u001b[0m\u001b[0m\n",
      "\u001b[0;32m~/envs/cudaEnv/lib/python3.6/site-packages/pycuda-2019.1.2-py3.6-linux-x86_64.egg/pycuda/gpuarray.py\u001b[0m in \u001b[0;36mto_gpu\u001b[0;34m(ary, allocator)\u001b[0m\n\u001b[1;32m   1047\u001b[0m \u001b[0;32mdef\u001b[0m \u001b[0mto_gpu\u001b[0m\u001b[0;34m(\u001b[0m\u001b[0mary\u001b[0m\u001b[0;34m,\u001b[0m \u001b[0mallocator\u001b[0m\u001b[0;34m=\u001b[0m\u001b[0mdrv\u001b[0m\u001b[0;34m.\u001b[0m\u001b[0mmem_alloc\u001b[0m\u001b[0;34m)\u001b[0m\u001b[0;34m:\u001b[0m\u001b[0;34m\u001b[0m\u001b[0;34m\u001b[0m\u001b[0m\n\u001b[1;32m   1048\u001b[0m     \u001b[0;34m\"\"\"converts a numpy array to a GPUArray\"\"\"\u001b[0m\u001b[0;34m\u001b[0m\u001b[0;34m\u001b[0m\u001b[0m\n\u001b[0;32m-> 1049\u001b[0;31m     \u001b[0mresult\u001b[0m \u001b[0;34m=\u001b[0m \u001b[0mGPUArray\u001b[0m\u001b[0;34m(\u001b[0m\u001b[0mary\u001b[0m\u001b[0;34m.\u001b[0m\u001b[0mshape\u001b[0m\u001b[0;34m,\u001b[0m \u001b[0mary\u001b[0m\u001b[0;34m.\u001b[0m\u001b[0mdtype\u001b[0m\u001b[0;34m,\u001b[0m \u001b[0mallocator\u001b[0m\u001b[0;34m,\u001b[0m \u001b[0mstrides\u001b[0m\u001b[0;34m=\u001b[0m\u001b[0m_compact_strides\u001b[0m\u001b[0;34m(\u001b[0m\u001b[0mary\u001b[0m\u001b[0;34m)\u001b[0m\u001b[0;34m)\u001b[0m\u001b[0;34m\u001b[0m\u001b[0;34m\u001b[0m\u001b[0m\n\u001b[0m\u001b[1;32m   1050\u001b[0m     \u001b[0mresult\u001b[0m\u001b[0;34m.\u001b[0m\u001b[0mset\u001b[0m\u001b[0;34m(\u001b[0m\u001b[0mary\u001b[0m\u001b[0;34m)\u001b[0m\u001b[0;34m\u001b[0m\u001b[0;34m\u001b[0m\u001b[0m\n\u001b[1;32m   1051\u001b[0m     \u001b[0;32mreturn\u001b[0m \u001b[0mresult\u001b[0m\u001b[0;34m\u001b[0m\u001b[0;34m\u001b[0m\u001b[0m\n",
      "\u001b[0;32m~/envs/cudaEnv/lib/python3.6/site-packages/pycuda-2019.1.2-py3.6-linux-x86_64.egg/pycuda/gpuarray.py\u001b[0m in \u001b[0;36m__init__\u001b[0;34m(self, shape, dtype, allocator, base, gpudata, strides, order)\u001b[0m\n\u001b[1;32m    208\u001b[0m         \u001b[0;32mif\u001b[0m \u001b[0mgpudata\u001b[0m \u001b[0;32mis\u001b[0m \u001b[0;32mNone\u001b[0m\u001b[0;34m:\u001b[0m\u001b[0;34m\u001b[0m\u001b[0;34m\u001b[0m\u001b[0m\n\u001b[1;32m    209\u001b[0m             \u001b[0;32mif\u001b[0m \u001b[0mself\u001b[0m\u001b[0;34m.\u001b[0m\u001b[0msize\u001b[0m\u001b[0;34m:\u001b[0m\u001b[0;34m\u001b[0m\u001b[0;34m\u001b[0m\u001b[0m\n\u001b[0;32m--> 210\u001b[0;31m                 \u001b[0mself\u001b[0m\u001b[0;34m.\u001b[0m\u001b[0mgpudata\u001b[0m \u001b[0;34m=\u001b[0m \u001b[0mself\u001b[0m\u001b[0;34m.\u001b[0m\u001b[0mallocator\u001b[0m\u001b[0;34m(\u001b[0m\u001b[0mself\u001b[0m\u001b[0;34m.\u001b[0m\u001b[0msize\u001b[0m \u001b[0;34m*\u001b[0m \u001b[0mself\u001b[0m\u001b[0;34m.\u001b[0m\u001b[0mdtype\u001b[0m\u001b[0;34m.\u001b[0m\u001b[0mitemsize\u001b[0m\u001b[0;34m)\u001b[0m\u001b[0;34m\u001b[0m\u001b[0;34m\u001b[0m\u001b[0m\n\u001b[0m\u001b[1;32m    211\u001b[0m             \u001b[0;32melse\u001b[0m\u001b[0;34m:\u001b[0m\u001b[0;34m\u001b[0m\u001b[0;34m\u001b[0m\u001b[0m\n\u001b[1;32m    212\u001b[0m                 \u001b[0mself\u001b[0m\u001b[0;34m.\u001b[0m\u001b[0mgpudata\u001b[0m \u001b[0;34m=\u001b[0m \u001b[0;32mNone\u001b[0m\u001b[0;34m\u001b[0m\u001b[0;34m\u001b[0m\u001b[0m\n",
      "\u001b[0;31mLogicError\u001b[0m: cuMemAlloc failed: an illegal memory access was encountered"
     ]
    }
   ],
   "source": [
    "a = a.astype(np.float32)\n",
    "b = np.zeros((a.shape[1], a.shape[0])).astype(np.float32)\n",
    "\n",
    "a_d = gpuarray.to_gpu(a)\n",
    "b_d = gpuarray.to_gpu(b)\n",
    "\n",
    "block = context.block_dims\n",
    "grid = context.grid_dims(max([a.shape[0], b.shape[1]]))\n",
    "\n",
    "# print(block)\n",
    "# print(grid)\n",
    "\n",
    "matrix_transpose(a_d, b_d, np.int32(a.shape[0]), np.int32(a.shape[1]), block=block, grid=grid)\n",
    "\n",
    "b = b_d.get()\n",
    "\n",
    "print(a.shape)\n",
    "print(b.shape)\n",
    "\n",
    "print(b)\n",
    "print(a_t)\n",
    "print(\"Correct: \", np.allclose(a.T, b))"
   ]
  },
  {
   "cell_type": "code",
   "execution_count": null,
   "id": "22ca6ed1-3366-4d52-b87f-f35406df78f4",
   "metadata": {},
   "outputs": [],
   "source": []
  },
  {
   "cell_type": "code",
   "execution_count": null,
   "id": "8c631a2f-c857-4f48-8241-c739ae02384e",
   "metadata": {},
   "outputs": [],
   "source": []
  }
 ],
 "metadata": {
  "kernelspec": {
   "display_name": "cudaEnv",
   "language": "python",
   "name": "cudaenv"
  },
  "language_info": {
   "codemirror_mode": {
    "name": "ipython",
    "version": 3
   },
   "file_extension": ".py",
   "mimetype": "text/x-python",
   "name": "python",
   "nbconvert_exporter": "python",
   "pygments_lexer": "ipython3",
   "version": "3.6.9"
  }
 },
 "nbformat": 4,
 "nbformat_minor": 5
}
