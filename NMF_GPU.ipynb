{
 "cells": [
  {
   "cell_type": "code",
   "execution_count": 1,
   "id": "9af79075-ee8f-4768-84a1-39125a7a73dd",
   "metadata": {},
   "outputs": [],
   "source": [
    "from utils.context import Context\n",
    "\n",
    "BLOCK_SIZE = 32\n",
    "context = Context(BLOCK_SIZE)\n",
    "\n",
    "matrix_multiplication_kernel_path = './kernels/MatrixMultiplication.cu'\n",
    "matrix_transpose_kernel_path = './kernels/MatrixTranspose.cu'\n",
    "element_multiplication_kernel_path = './kernels/ElementWise.cu'\n",
    "\n",
    "kernel_paths = [matrix_multiplication_kernel_path, \n",
    "                matrix_transpose_kernel_path,\n",
    "                element_multiplication_kernel_path]\n",
    "\n",
    "source_module = context.getSourceModule(kernel_paths, multiple_kernels=True)"
   ]
  },
  {
   "cell_type": "code",
   "execution_count": 2,
   "id": "da3ae475-9838-4bbf-997c-eab0f9c82f0e",
   "metadata": {},
   "outputs": [],
   "source": [
    "matmul = source_module.get_function('MatMul')\n",
    "mattran = source_module.get_function('MatTran')\n",
    "matmulel = source_module.get_function('MatEleMul')\n",
    "matadd = source_module.get_function('MatEleAdd')\n"
   ]
  },
  {
   "cell_type": "code",
   "execution_count": null,
   "id": "6502bbb9-8a5f-4a74-b51c-0881d9ff4103",
   "metadata": {},
   "outputs": [],
   "source": []
  }
 ],
 "metadata": {
  "kernelspec": {
   "display_name": "cudaEnv",
   "language": "python",
   "name": "cudaenv"
  },
  "language_info": {
   "codemirror_mode": {
    "name": "ipython",
    "version": 3
   },
   "file_extension": ".py",
   "mimetype": "text/x-python",
   "name": "python",
   "nbconvert_exporter": "python",
   "pygments_lexer": "ipython3",
   "version": "3.6.9"
  }
 },
 "nbformat": 4,
 "nbformat_minor": 5
}
