{
 "cells": [
  {
   "cell_type": "code",
   "execution_count": 1,
   "id": "9af79075-ee8f-4768-84a1-39125a7a73dd",
   "metadata": {},
   "outputs": [],
   "source": [
    "import numpy as np\n",
    "\n",
    "from utils.loss_functions import euclidean_loss\n",
    "\n",
    "%load_ext autoreload\n",
    "%autoreload 2"
   ]
  },
  {
   "cell_type": "code",
   "execution_count": 2,
   "id": "da3ae475-9838-4bbf-997c-eab0f9c82f0e",
   "metadata": {},
   "outputs": [],
   "source": [
    "N = 3012 #number of words\n",
    "M = 8447 #number of articles\n",
    "X = np.zeros((N, M)) #define the original data matrix\n",
    "K = 25 #number of categories (matrix rank)\n",
    "\n",
    "\n",
    "W = np.random.uniform(1, 2, (N, K)) #initialize W and H to random values between 1 and 2\n",
    "H = np.random.uniform(1, 2, (K, M))"
   ]
  },
  {
   "cell_type": "code",
   "execution_count": 17,
   "id": "6502bbb9-8a5f-4a74-b51c-0881d9ff4103",
   "metadata": {},
   "outputs": [
    {
     "name": "stdout",
     "output_type": "stream",
     "text": [
      "W x H matches NumPy:  True\n",
      "X - WH matches NumPy:  True\n",
      "(X - WH)^2 matches NumPy:  True\n",
      "sum((X - WH)^2) matches NumPy:  True\n",
      "80608000000.0\n"
     ]
    }
   ],
   "source": [
    "loss = euclidean_loss(X, W, H, compare_to_numpy=True)\n",
    "\n",
    "print(loss)"
   ]
  },
  {
   "cell_type": "code",
   "execution_count": null,
   "id": "0dbd476c-d2cf-4d9d-b188-4919cfafc8b3",
   "metadata": {},
   "outputs": [],
   "source": []
  }
 ],
 "metadata": {
  "kernelspec": {
   "display_name": "cudaEnv",
   "language": "python",
   "name": "cudaenv"
  },
  "language_info": {
   "codemirror_mode": {
    "name": "ipython",
    "version": 3
   },
   "file_extension": ".py",
   "mimetype": "text/x-python",
   "name": "python",
   "nbconvert_exporter": "python",
   "pygments_lexer": "ipython3",
   "version": "3.6.9"
  }
 },
 "nbformat": 4,
 "nbformat_minor": 5
}
