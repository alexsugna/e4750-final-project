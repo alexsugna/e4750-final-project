{
 "cells": [
  {
   "cell_type": "markdown",
   "id": "c854cd06-555e-41df-aaac-67be4db09cbf",
   "metadata": {},
   "source": [
    "# Notebook for Parallel Matrix Multiplication Experimentation"
   ]
  },
  {
   "cell_type": "code",
   "execution_count": 6,
   "id": "852f59c8-ce39-4c3e-b8db-7c0024caea00",
   "metadata": {},
   "outputs": [
    {
     "name": "stdout",
     "output_type": "stream",
     "text": [
      "The autoreload extension is already loaded. To reload it, use:\n",
      "  %reload_ext autoreload\n"
     ]
    }
   ],
   "source": [
    "import numpy as np\n",
    "import pycuda.gpuarray as gpuarray\n",
    "\n",
    "from utils.context import Context\n",
    "\n",
    "\n",
    "%load_ext autoreload\n",
    "%autoreload 2"
   ]
  },
  {
   "cell_type": "code",
   "execution_count": 8,
   "id": "a36afc45-5fc3-4b9f-a9d2-5f7743e54cac",
   "metadata": {},
   "outputs": [],
   "source": [
    "BLOCK_SIZE = 32\n",
    "matrix_multiplication_kernel_path = './kernels/MatrixMultiplication.cu'\n",
    "\n",
    "context = Context(BLOCK_SIZE)\n",
    "\n",
    "matrix_multiplication = context.getSourceModule(matrix_multiplication_kernel_path).get_function('MatMul')"
   ]
  },
  {
   "cell_type": "markdown",
   "id": "a06e637d-2ad1-4e95-bca7-62d5a0d2084b",
   "metadata": {},
   "source": [
    "### Test Cases\n",
    "\n",
    "Sequential"
   ]
  },
  {
   "cell_type": "code",
   "execution_count": 9,
   "id": "52af6299-1877-4069-bb7e-25d9e5a3c098",
   "metadata": {},
   "outputs": [
    {
     "name": "stdout",
     "output_type": "stream",
     "text": [
      "[[2 3 3 3]\n",
      " [1 4 1 0]]\n",
      "[[0 3]\n",
      " [2 1]\n",
      " [2 3]\n",
      " [0 4]]\n",
      "[[12 30]\n",
      " [10 10]]\n"
     ]
    }
   ],
   "source": [
    "a = np.random.randint(5, size=(2, 4))\n",
    "b = np.random.randint(5, size=(4, 2))\n",
    "c_python = np.matmul(a, b)\n",
    "\n",
    "print(a)\n",
    "print(b)\n",
    "print(c_python)"
   ]
  },
  {
   "cell_type": "markdown",
   "id": "aae34558-1c60-48fd-b96a-4489e9cf278f",
   "metadata": {},
   "source": [
    "Parallel"
   ]
  },
  {
   "cell_type": "code",
   "execution_count": 13,
   "id": "2fa9d68a-fdb2-4715-a33f-7d3f84c35513",
   "metadata": {},
   "outputs": [
    {
     "name": "stdout",
     "output_type": "stream",
     "text": [
      "[[12. 30.]\n",
      " [10. 10.]]\n"
     ]
    }
   ],
   "source": [
    "a = a.astype(np.float32)\n",
    "b = b.astype(np.float32)\n",
    "c = np.zeros((a.shape[0], b.shape[1])).astype(np.float32)\n",
    "\n",
    "a_d = gpuarray.to_gpu(a)\n",
    "b_d = gpuarray.to_gpu(b)\n",
    "c_d = gpuarray.to_gpu(c)\n",
    "\n",
    "block = context.block_dims\n",
    "grid = context.grid_dims(max([a.shape[0], b.shape[1]]))\n",
    "\n",
    "matrix_multiplication(a_d, b_d, c_d, np.int32(a.shape[0]), \n",
    "                      np.int32(a.shape[1]), np.int32(b.shape[0]), \n",
    "                      np.int32(b.shape[1]), np.int32(c.shape[0]), np.int32(c.shape[1]),\n",
    "                      block=block, grid=grid)\n",
    "\n",
    "c = c_d.get()\n",
    "\n",
    "print(c)\n"
   ]
  },
  {
   "cell_type": "code",
   "execution_count": null,
   "id": "479d5af8-8df6-4e9d-92b9-a9ffbb6dc08c",
   "metadata": {},
   "outputs": [],
   "source": []
  }
 ],
 "metadata": {
  "kernelspec": {
   "display_name": "cudaEnv",
   "language": "python",
   "name": "cudaenv"
  },
  "language_info": {
   "codemirror_mode": {
    "name": "ipython",
    "version": 3
   },
   "file_extension": ".py",
   "mimetype": "text/x-python",
   "name": "python",
   "nbconvert_exporter": "python",
   "pygments_lexer": "ipython3",
   "version": "3.6.9"
  }
 },
 "nbformat": 4,
 "nbformat_minor": 5
}
