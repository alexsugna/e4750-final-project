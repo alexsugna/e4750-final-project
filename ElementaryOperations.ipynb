{
 "cells": [
  {
   "cell_type": "markdown",
   "id": "c854cd06-555e-41df-aaac-67be4db09cbf",
   "metadata": {},
   "source": [
    "# Notebook for Elementary Operation Experimentation"
   ]
  },
  {
   "cell_type": "code",
   "execution_count": 1,
   "id": "852f59c8-ce39-4c3e-b8db-7c0024caea00",
   "metadata": {},
   "outputs": [],
   "source": [
    "import numpy as np\n",
    "import pycuda.gpuarray as gpuarray\n",
    "\n",
    "from utils.context import Context\n",
    "\n",
    "\n",
    "%load_ext autoreload\n",
    "%autoreload 2"
   ]
  },
  {
   "cell_type": "markdown",
   "id": "df99a009-06fe-49ea-b588-9eef07454fc6",
   "metadata": {},
   "source": [
    "## Matrix Multiplication"
   ]
  },
  {
   "cell_type": "code",
   "execution_count": 2,
   "id": "a36afc45-5fc3-4b9f-a9d2-5f7743e54cac",
   "metadata": {},
   "outputs": [],
   "source": [
    "BLOCK_SIZE = 32\n",
    "context = Context(BLOCK_SIZE)\n",
    "\n",
    "matrix_multiplication_kernel_path = './kernels/MatrixMultiplication.cu'\n",
    "matrix_multiplication = context.getSourceModule(matrix_multiplication_kernel_path).get_function('MatMul')\n"
   ]
  },
  {
   "cell_type": "markdown",
   "id": "a06e637d-2ad1-4e95-bca7-62d5a0d2084b",
   "metadata": {},
   "source": [
    "### Test Cases\n",
    "\n",
    "Sequential"
   ]
  },
  {
   "cell_type": "code",
   "execution_count": 19,
   "id": "52af6299-1877-4069-bb7e-25d9e5a3c098",
   "metadata": {},
   "outputs": [
    {
     "name": "stdout",
     "output_type": "stream",
     "text": [
      "[[2 1 3 ... 3 0 1]\n",
      " [0 2 3 ... 1 0 4]\n",
      " [3 4 4 ... 3 4 0]\n",
      " ...\n",
      " [4 4 2 ... 1 3 0]\n",
      " [1 0 1 ... 4 0 3]\n",
      " [0 4 3 ... 4 2 2]]\n",
      "[[1 0 4 ... 1 2 2]\n",
      " [0 4 1 ... 2 4 3]\n",
      " [3 4 4 ... 3 4 4]\n",
      " ...\n",
      " [4 4 0 ... 1 3 3]\n",
      " [1 3 3 ... 4 4 4]\n",
      " [2 1 3 ... 1 3 0]]\n",
      "[[182 189 162 187 198 207 232 180 233 217 203 212 137 194 209 136 180 174\n",
      "  217 202 199 235 205 190 203 187 233 173 208]\n",
      " [224 160 171 189 219 185 241 213 243 203 227 222 161 202 216 183 174 180\n",
      "  235 227 179 227 224 213 208 209 220 177 206]\n",
      " [226 210 171 206 213 204 270 226 243 232 232 211 159 209 219 169 192 182\n",
      "  222 229 202 243 242 214 235 208 236 204 241]\n",
      " [230 194 214 221 229 209 270 218 285 241 253 214 183 184 237 181 177 197\n",
      "  242 218 209 241 244 217 238 221 254 201 217]\n",
      " [190 145 177 183 169 154 224 165 226 181 183 173 149 142 178 139 127 147\n",
      "  177 158 155 195 195 172 197 207 186 162 153]\n",
      " [147 146 142 169 137 133 182 180 185 155 174 151  95 147 150 127 155 149\n",
      "  190 185 130 162 169 151 160 150 177 130 161]\n",
      " [237 200 201 224 199 196 260 227 262 240 243 205 183 200 228 167 156 180\n",
      "  226 225 200 248 230 196 256 208 227 186 206]\n",
      " [195 182 176 215 177 204 259 223 230 224 233 214 174 201 209 165 186 193\n",
      "  227 208 221 209 227 198 217 235 221 189 205]\n",
      " [177 142 130 154 171 143 190 161 201 158 195 175 127 159 163 134 156 123\n",
      "  193 174 155 166 168 171 155 120 186 166 186]\n",
      " [195 181 157 190 212 196 257 220 246 235 211 211 161 226 181 189 181 155\n",
      "  229 231 204 240 225 205 236 208 199 187 213]\n",
      " [168 156 149 173 159 143 206 198 181 191 170 155 146 160 178 147 153 133\n",
      "  194 165 170 218 181 175 183 146 184 163 174]\n",
      " [210 197 174 183 221 195 241 204 237 199 227 223 165 193 207 167 202 186\n",
      "  223 208 181 211 232 214 191 182 252 198 208]\n",
      " [197 181 195 215 172 213 259 213 222 218 196 203 129 182 182 181 163 193\n",
      "  213 220 173 249 214 195 207 176 233 185 200]\n",
      " [134 141 165 184 134 148 180 192 178 172 189 161  83 157 159 135 137 146\n",
      "  194 175 164 196 192 147 188 138 202 158 191]\n",
      " [181 187 177 193 149 187 207 211 208 195 213 182 173 173 199 163 141 184\n",
      "  183 196 175 204 208 173 202 165 246 181 180]\n",
      " [198 165 152 187 203 187 224 204 197 247 198 194 157 193 179 185 171 177\n",
      "  199 205 184 222 226 203 212 183 211 164 201]\n",
      " [228 202 179 216 200 213 268 218 232 237 227 216 164 193 208 194 186 192\n",
      "  238 215 223 245 241 198 209 219 243 189 216]\n",
      " [194 191 185 220 210 191 249 217 254 244 256 216 134 197 228 173 206 219\n",
      "  223 238 182 228 218 203 227 172 252 191 210]\n",
      " [197 171 169 201 216 186 255 232 244 223 226 200 153 227 197 190 178 178\n",
      "  239 235 208 213 239 218 236 210 238 166 205]\n",
      " [187 191 172 220 174 188 254 219 226 234 212 165 156 200 187 206 168 189\n",
      "  209 220 188 244 213 190 226 199 227 166 202]\n",
      " [176 180 166 170 174 198 253 215 241 189 200 182 137 200 200 152 189 139\n",
      "  225 225 197 231 194 195 226 183 219 186 197]\n",
      " [199 218 167 205 208 195 243 219 235 233 218 218 159 219 192 188 178 188\n",
      "  216 229 186 227 238 174 211 199 208 157 221]\n",
      " [187 169 150 175 186 191 244 198 205 197 209 148 164 189 209 171 169 168\n",
      "  212 202 205 220 183 207 197 170 199 146 172]\n",
      " [148 146 124 132 144 142 175 180 155 161 145 142 126 159 133 157 154 149\n",
      "  178 179 139 148 184 165 172 108 192 142 164]\n",
      " [191 186 179 191 157 196 248 186 227 202 211 177 141 170 179 156 142 170\n",
      "  206 202 187 222 197 168 200 181 221 159 183]\n",
      " [212 235 242 262 204 247 296 249 269 273 268 228 185 230 254 186 194 225\n",
      "  267 252 229 268 267 243 244 217 277 234 251]\n",
      " [235 187 176 211 241 214 267 216 282 250 231 224 171 191 210 203 178 199\n",
      "  242 254 194 249 224 239 234 197 227 169 210]\n",
      " [214 231 183 251 223 196 238 251 260 246 255 213 192 208 235 173 171 176\n",
      "  240 192 197 233 258 197 235 223 238 214 225]]\n"
     ]
    }
   ],
   "source": [
    "a = np.random.randint(5, size=(28, 49))\n",
    "b = np.random.randint(5, size=(49, 29))\n",
    "c_python = np.matmul(a, b)\n",
    "\n",
    "print(a)\n",
    "print(b)\n",
    "print(c_python)"
   ]
  },
  {
   "cell_type": "markdown",
   "id": "aae34558-1c60-48fd-b96a-4489e9cf278f",
   "metadata": {},
   "source": [
    "Parallel"
   ]
  },
  {
   "cell_type": "code",
   "execution_count": 21,
   "id": "2fa9d68a-fdb2-4715-a33f-7d3f84c35513",
   "metadata": {},
   "outputs": [
    {
     "ename": "SyntaxError",
     "evalue": "EOL while scanning string literal (<ipython-input-21-0da7bf734851>, line 20)",
     "output_type": "error",
     "traceback": [
      "\u001b[0;36m  File \u001b[0;32m\"<ipython-input-21-0da7bf734851>\"\u001b[0;36m, line \u001b[0;32m20\u001b[0m\n\u001b[0;31m    print(\"Correct:\u001b[0m\n\u001b[0m                    ^\u001b[0m\n\u001b[0;31mSyntaxError\u001b[0m\u001b[0;31m:\u001b[0m EOL while scanning string literal\n"
     ]
    }
   ],
   "source": [
    "a = a.astype(np.float32)\n",
    "b = b.astype(np.float32)\n",
    "c = np.zeros((a.shape[0], b.shape[1])).astype(np.float32)\n",
    "\n",
    "a_d = gpuarray.to_gpu(a)\n",
    "b_d = gpuarray.to_gpu(b)\n",
    "c_d = gpuarray.to_gpu(c)\n",
    "\n",
    "block = context.block_dims\n",
    "grid = context.grid_dims(max([a.shape[0], b.shape[1]]))\n",
    "\n",
    "matrix_multiplication(a_d, b_d, c_d, np.int32(a.shape[0]), \n",
    "                      np.int32(a.shape[1]), np.int32(b.shape[0]), \n",
    "                      np.int32(b.shape[1]), np.int32(c.shape[0]), np.int32(c.shape[1]),\n",
    "                      block=block, grid=grid)\n",
    "\n",
    "c = c_d.get()\n",
    "\n",
    "print(c)\n",
    "print(\"Correct: \", np.a"
   ]
  },
  {
   "cell_type": "markdown",
   "id": "182f02b3-a0cc-4902-85a5-bd14d1a0d9fa",
   "metadata": {},
   "source": [
    "## Matrix Transpose\n",
    "\n",
    "Not working, look through this later."
   ]
  },
  {
   "cell_type": "code",
   "execution_count": 8,
   "id": "c4ae7efc-6fd6-47aa-bdcb-9f01418521a9",
   "metadata": {},
   "outputs": [],
   "source": [
    "matrix_transpose_kernel_path = './kernels/MatrixTranspose.cu'\n",
    "matrix_transpose = context.getSourceModule(matrix_transpose_kernel_path).get_function('MatTranSquare')\n"
   ]
  },
  {
   "cell_type": "markdown",
   "id": "e8b18d36-9952-44d3-9919-fd4dd1d00e52",
   "metadata": {},
   "source": [
    "### Test Cases"
   ]
  },
  {
   "cell_type": "code",
   "execution_count": 16,
   "id": "174f4f1a-4620-4755-a9fb-eaceab71905d",
   "metadata": {},
   "outputs": [
    {
     "name": "stdout",
     "output_type": "stream",
     "text": [
      "[[3 4 1 ... 0 1 0]\n",
      " [1 2 1 ... 3 0 1]\n",
      " [3 2 1 ... 3 3 1]\n",
      " ...\n",
      " [2 0 1 ... 2 3 3]\n",
      " [0 2 3 ... 1 2 1]\n",
      " [3 0 4 ... 3 4 0]]\n",
      "\n",
      "[[3 1 3 ... 2 0 3]\n",
      " [4 2 2 ... 0 2 0]\n",
      " [1 1 1 ... 1 3 4]\n",
      " ...\n",
      " [0 3 3 ... 2 1 3]\n",
      " [1 0 3 ... 3 2 4]\n",
      " [0 1 1 ... 3 1 0]]\n"
     ]
    }
   ],
   "source": [
    "a = np.random.randint(5, size=(40, 50))\n",
    "a_t = a.T\n",
    "print(a)\n",
    "print()\n",
    "print(a_t)"
   ]
  },
  {
   "cell_type": "code",
   "execution_count": 18,
   "id": "c6b2670f-9fad-47cf-b109-c145d394f6e2",
   "metadata": {},
   "outputs": [
    {
     "name": "stdout",
     "output_type": "stream",
     "text": [
      "(40, 50)\n",
      "(50, 40)\n",
      "[[3. 1. 3. ... 2. 0. 3.]\n",
      " [4. 2. 2. ... 0. 2. 0.]\n",
      " [1. 1. 1. ... 1. 3. 4.]\n",
      " ...\n",
      " [0. 3. 3. ... 2. 1. 3.]\n",
      " [1. 0. 3. ... 3. 2. 4.]\n",
      " [0. 1. 1. ... 3. 1. 0.]]\n",
      "[[3 1 3 ... 2 0 3]\n",
      " [4 2 2 ... 0 2 0]\n",
      " [1 1 1 ... 1 3 4]\n",
      " ...\n",
      " [0 3 3 ... 2 1 3]\n",
      " [1 0 3 ... 3 2 4]\n",
      " [0 1 1 ... 3 1 0]]\n",
      "Correct:  True\n"
     ]
    }
   ],
   "source": [
    "a = a.astype(np.float32)\n",
    "b = np.zeros((a.shape[1], a.shape[0])).astype(np.float32)\n",
    "\n",
    "a_d = gpuarray.to_gpu(a)\n",
    "b_d = gpuarray.to_gpu(b)\n",
    "\n",
    "block = context.block_dims\n",
    "grid = context.grid_dims(max([a.shape[0], b.shape[1]]))\n",
    "\n",
    "# print(block)\n",
    "# print(grid)\n",
    "\n",
    "matrix_transpose(a_d, b_d, np.int32(a.shape[1]), np.int32(a.shape[0]), block=block, grid=grid)\n",
    "\n",
    "b = b_d.get()\n",
    "\n",
    "print(a.shape)\n",
    "print(b.shape)\n",
    "\n",
    "print(b)\n",
    "print(a_t)\n",
    "print(\"Correct: \", np.allclose(a.T, b))"
   ]
  },
  {
   "cell_type": "code",
   "execution_count": null,
   "id": "22ca6ed1-3366-4d52-b87f-f35406df78f4",
   "metadata": {},
   "outputs": [],
   "source": []
  },
  {
   "cell_type": "code",
   "execution_count": null,
   "id": "8c631a2f-c857-4f48-8241-c739ae02384e",
   "metadata": {},
   "outputs": [],
   "source": []
  }
 ],
 "metadata": {
  "kernelspec": {
   "display_name": "cudaEnv",
   "language": "python",
   "name": "cudaenv"
  },
  "language_info": {
   "codemirror_mode": {
    "name": "ipython",
    "version": 3
   },
   "file_extension": ".py",
   "mimetype": "text/x-python",
   "name": "python",
   "nbconvert_exporter": "python",
   "pygments_lexer": "ipython3",
   "version": "3.6.9"
  }
 },
 "nbformat": 4,
 "nbformat_minor": 5
}
