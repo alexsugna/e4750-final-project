{
 "cells": [
  {
   "cell_type": "markdown",
   "id": "c854cd06-555e-41df-aaac-67be4db09cbf",
   "metadata": {},
   "source": [
    "# Notebook for Elementary Operation Experimentation"
   ]
  },
  {
   "cell_type": "code",
   "execution_count": 1,
   "id": "852f59c8-ce39-4c3e-b8db-7c0024caea00",
   "metadata": {},
   "outputs": [],
   "source": [
    "import numpy as np\n",
    "import pycuda.gpuarray as gpuarray\n",
    "\n",
    "from utils.context import Context\n",
    "\n",
    "\n",
    "%load_ext autoreload\n",
    "%autoreload 2"
   ]
  },
  {
   "cell_type": "markdown",
   "id": "df99a009-06fe-49ea-b588-9eef07454fc6",
   "metadata": {},
   "source": [
    "## Matrix Multiplication"
   ]
  },
  {
   "cell_type": "code",
   "execution_count": 2,
   "id": "a36afc45-5fc3-4b9f-a9d2-5f7743e54cac",
   "metadata": {},
   "outputs": [],
   "source": [
    "BLOCK_SIZE = 32\n",
    "context = Context(BLOCK_SIZE)\n",
    "\n",
    "matrix_multiplication_kernel_path = './kernels/MatrixMultiplication.cu'\n",
    "matrix_multiplication = context.getSourceModule(matrix_multiplication_kernel_path).get_function('MatMul')\n"
   ]
  },
  {
   "cell_type": "markdown",
   "id": "a06e637d-2ad1-4e95-bca7-62d5a0d2084b",
   "metadata": {},
   "source": [
    "### Test Cases\n",
    "\n",
    "Sequential"
   ]
  },
  {
   "cell_type": "code",
   "execution_count": 3,
   "id": "52af6299-1877-4069-bb7e-25d9e5a3c098",
   "metadata": {},
   "outputs": [
    {
     "name": "stdout",
     "output_type": "stream",
     "text": [
      "[[4 3 4 1]\n",
      " [2 0 1 4]]\n",
      "[[0 3]\n",
      " [4 1]\n",
      " [1 4]\n",
      " [0 4]]\n",
      "[[16 35]\n",
      " [ 1 26]]\n"
     ]
    }
   ],
   "source": [
    "a = np.random.randint(5, size=(2, 4))\n",
    "b = np.random.randint(5, size=(4, 2))\n",
    "c_python = np.matmul(a, b)\n",
    "\n",
    "print(a)\n",
    "print(b)\n",
    "print(c_python)"
   ]
  },
  {
   "cell_type": "markdown",
   "id": "aae34558-1c60-48fd-b96a-4489e9cf278f",
   "metadata": {},
   "source": [
    "Parallel"
   ]
  },
  {
   "cell_type": "code",
   "execution_count": 4,
   "id": "2fa9d68a-fdb2-4715-a33f-7d3f84c35513",
   "metadata": {},
   "outputs": [
    {
     "name": "stdout",
     "output_type": "stream",
     "text": [
      "[[16. 35.]\n",
      " [ 1. 26.]]\n"
     ]
    }
   ],
   "source": [
    "a = a.astype(np.float32)\n",
    "b = b.astype(np.float32)\n",
    "c = np.zeros((a.shape[0], b.shape[1])).astype(np.float32)\n",
    "\n",
    "a_d = gpuarray.to_gpu(a)\n",
    "b_d = gpuarray.to_gpu(b)\n",
    "c_d = gpuarray.to_gpu(c)\n",
    "\n",
    "block = context.block_dims\n",
    "grid = context.grid_dims(max([a.shape[0], b.shape[1]]))\n",
    "\n",
    "matrix_multiplication(a_d, b_d, c_d, np.int32(a.shape[0]), \n",
    "                      np.int32(a.shape[1]), np.int32(b.shape[0]), \n",
    "                      np.int32(b.shape[1]), np.int32(c.shape[0]), np.int32(c.shape[1]),\n",
    "                      block=block, grid=grid)\n",
    "\n",
    "c = c_d.get()\n",
    "\n",
    "print(c)\n"
   ]
  },
  {
   "cell_type": "markdown",
   "id": "182f02b3-a0cc-4902-85a5-bd14d1a0d9fa",
   "metadata": {},
   "source": [
    "## Matrix Transpose\n",
    "\n",
    "Not working, look through this later."
   ]
  },
  {
   "cell_type": "code",
   "execution_count": 26,
   "id": "c4ae7efc-6fd6-47aa-bdcb-9f01418521a9",
   "metadata": {},
   "outputs": [],
   "source": [
    "matrix_transpose_kernel_path = './kernels/MatrixTranspose.cu'\n",
    "matrix_transpose = context.getSourceModule(matrix_transpose_kernel_path).get_function('transpose')\n"
   ]
  },
  {
   "cell_type": "markdown",
   "id": "e8b18d36-9952-44d3-9919-fd4dd1d00e52",
   "metadata": {},
   "source": [
    "### Test Cases"
   ]
  },
  {
   "cell_type": "code",
   "execution_count": 29,
   "id": "174f4f1a-4620-4755-a9fb-eaceab71905d",
   "metadata": {},
   "outputs": [
    {
     "name": "stdout",
     "output_type": "stream",
     "text": [
      "[[0 3 4 ... 1 2 0]\n",
      " [3 2 0 ... 2 3 2]\n",
      " [3 3 3 ... 3 4 2]\n",
      " ...\n",
      " [4 1 2 ... 3 4 3]\n",
      " [2 3 2 ... 3 0 2]\n",
      " [2 1 0 ... 1 0 4]]\n",
      "\n",
      "[[0 3 3 ... 4 2 2]\n",
      " [3 2 3 ... 1 3 1]\n",
      " [4 0 3 ... 2 2 0]\n",
      " ...\n",
      " [1 2 3 ... 3 3 1]\n",
      " [2 3 4 ... 4 0 0]\n",
      " [0 2 2 ... 3 2 4]]\n"
     ]
    }
   ],
   "source": [
    "a = np.random.randint(5, size=(33,33))\n",
    "print(a)\n",
    "print()\n",
    "print(a.T)"
   ]
  },
  {
   "cell_type": "code",
   "execution_count": 31,
   "id": "c6b2670f-9fad-47cf-b109-c145d394f6e2",
   "metadata": {},
   "outputs": [
    {
     "name": "stdout",
     "output_type": "stream",
     "text": [
      "(32, 32, 1)\n",
      "(2, 2, 1)\n",
      "[[0. 3. 3. ... 4. 2. 2.]\n",
      " [3. 2. 3. ... 1. 3. 1.]\n",
      " [4. 0. 3. ... 2. 2. 0.]\n",
      " ...\n",
      " [1. 2. 3. ... 3. 3. 1.]\n",
      " [2. 3. 4. ... 4. 0. 0.]\n",
      " [0. 2. 2. ... 3. 2. 4.]]\n",
      "Correct:  True\n"
     ]
    }
   ],
   "source": [
    "a = a.astype(np.float32)\n",
    "b = np.zeros(a.shape).astype(np.float32)\n",
    "\n",
    "a_d = gpuarray.to_gpu(a)\n",
    "b_d = gpuarray.to_gpu(b)\n",
    "\n",
    "block = context.block_dims\n",
    "grid = context.grid_dims(max([a.shape[0], b.shape[1]]))\n",
    "\n",
    "print(block)\n",
    "print(grid)\n",
    "\n",
    "matrix_transpose(b_d, a_d, np.int32(a.shape[0]), np.int32(a.shape[1]),np.int32(1), block=block, grid=grid)\n",
    "\n",
    "b = b_d.get()\n",
    "\n",
    "print(b)\n",
    "\n",
    "print(\"Correct: \", np.allclose(a.T, b))"
   ]
  },
  {
   "cell_type": "code",
   "execution_count": null,
   "id": "22ca6ed1-3366-4d52-b87f-f35406df78f4",
   "metadata": {},
   "outputs": [],
   "source": []
  },
  {
   "cell_type": "code",
   "execution_count": null,
   "id": "8c631a2f-c857-4f48-8241-c739ae02384e",
   "metadata": {},
   "outputs": [],
   "source": []
  }
 ],
 "metadata": {
  "kernelspec": {
   "display_name": "cudaEnv",
   "language": "python",
   "name": "cudaenv"
  },
  "language_info": {
   "codemirror_mode": {
    "name": "ipython",
    "version": 3
   },
   "file_extension": ".py",
   "mimetype": "text/x-python",
   "name": "python",
   "nbconvert_exporter": "python",
   "pygments_lexer": "ipython3",
   "version": "3.6.9"
  }
 },
 "nbformat": 4,
 "nbformat_minor": 5
}
