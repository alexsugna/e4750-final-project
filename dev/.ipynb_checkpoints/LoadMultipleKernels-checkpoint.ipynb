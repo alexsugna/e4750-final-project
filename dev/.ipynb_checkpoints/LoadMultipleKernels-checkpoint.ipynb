{
 "cells": [
  {
   "cell_type": "markdown",
   "id": "bed0bf6d-cc45-4cbb-9cb0-e5bbbe9445c0",
   "metadata": {},
   "source": [
    "# Load multiple kernel files in single context"
   ]
  },
  {
   "cell_type": "code",
   "execution_count": 4,
   "id": "50667d7b-1673-40bb-94d3-66cd823aa3eb",
   "metadata": {},
   "outputs": [],
   "source": [
    "from utils.context import Context\n",
    "\n",
    "BLOCK_SIZE = 32\n",
    "context = Context(BLOCK_SIZE)\n",
    "\n",
    "matrix_multiplication_kernel_path = './kernels/MatrixMultiplication.cu'\n",
    "matrix_transpose_kernel_path = './kernels/MatrixTranspose.cu'\n",
    "element_multiplication_kernel_path = './kernels/ElementWise.cu'\n",
    "\n",
    "kernel_paths = [matrix_multiplication_kernel_path, \n",
    "                matrix_transpose_kernel_path,\n",
    "                element_multiplication_kernel_path]\n",
    "\n",
    "source_module = context.getSourceModule(kernel_paths, multiple_kernels=True)"
   ]
  },
  {
   "cell_type": "code",
   "execution_count": 5,
   "id": "f52ff250-74e4-487f-bade-af4fce468d26",
   "metadata": {},
   "outputs": [],
   "source": [
    "mm = source_module.get_function('MatMul')\n",
    "mt = source_module.get_function('MatTran')\n",
    "me = source_module.get_function('MatEleMul')\n",
    "ma = source_module.get_function('MatEleAdd')\n"
   ]
  },
  {
   "cell_type": "code",
   "execution_count": null,
   "id": "889e51f6-d83f-4366-ba40-6c328085b296",
   "metadata": {},
   "outputs": [],
   "source": []
  }
 ],
 "metadata": {
  "kernelspec": {
   "display_name": "cudaEnv",
   "language": "python",
   "name": "cudaenv"
  },
  "language_info": {
   "codemirror_mode": {
    "name": "ipython",
    "version": 3
   },
   "file_extension": ".py",
   "mimetype": "text/x-python",
   "name": "python",
   "nbconvert_exporter": "python",
   "pygments_lexer": "ipython3",
   "version": "3.6.9"
  }
 },
 "nbformat": 4,
 "nbformat_minor": 5
}
