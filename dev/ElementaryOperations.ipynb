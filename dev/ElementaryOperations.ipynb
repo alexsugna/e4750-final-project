{
 "cells": [
  {
   "cell_type": "markdown",
   "id": "c854cd06-555e-41df-aaac-67be4db09cbf",
   "metadata": {},
   "source": [
    "# Notebook for Elementary Operation Experimentation"
   ]
  },
  {
   "cell_type": "code",
   "execution_count": 1,
   "id": "852f59c8-ce39-4c3e-b8db-7c0024caea00",
   "metadata": {},
   "outputs": [],
   "source": [
    "import numpy as np\n",
    "import pycuda.gpuarray as gpuarray\n",
    "\n",
    "from utils.context import Context\n",
    "\n",
    "\n",
    "%load_ext autoreload\n",
    "%autoreload 2"
   ]
  },
  {
   "cell_type": "markdown",
   "id": "df99a009-06fe-49ea-b588-9eef07454fc6",
   "metadata": {},
   "source": [
    "## Matrix Multiplication"
   ]
  },
  {
   "cell_type": "code",
   "execution_count": 2,
   "id": "a36afc45-5fc3-4b9f-a9d2-5f7743e54cac",
   "metadata": {},
   "outputs": [],
   "source": [
    "BLOCK_SIZE = 32\n",
    "context = Context(BLOCK_SIZE)\n",
    "\n",
    "matrix_multiplication_kernel_path = './kernels/MatrixMultiplication.cu'\n",
    "matrix_multiplication = context.getSourceModule(matrix_multiplication_kernel_path).get_function('MatMul')\n"
   ]
  },
  {
   "cell_type": "markdown",
   "id": "a06e637d-2ad1-4e95-bca7-62d5a0d2084b",
   "metadata": {},
   "source": [
    "### Test Cases\n",
    "\n",
    "Sequential"
   ]
  },
  {
   "cell_type": "code",
   "execution_count": null,
   "id": "52af6299-1877-4069-bb7e-25d9e5a3c098",
   "metadata": {},
   "outputs": [],
   "source": [
    "a = np.random.randint(5, size=(28, 49))\n",
    "b = np.random.randint(5, size=(49, 29))\n",
    "c_python = np.matmul(a, b)\n",
    "\n",
    "print(a)\n",
    "print(b)\n",
    "print(c_python)"
   ]
  },
  {
   "cell_type": "markdown",
   "id": "aae34558-1c60-48fd-b96a-4489e9cf278f",
   "metadata": {},
   "source": [
    "Parallel"
   ]
  },
  {
   "cell_type": "code",
   "execution_count": null,
   "id": "2fa9d68a-fdb2-4715-a33f-7d3f84c35513",
   "metadata": {},
   "outputs": [],
   "source": [
    "a = a.astype(np.float32)\n",
    "b = b.astype(np.float32)\n",
    "c = np.zeros((a.shape[0], b.shape[1])).astype(np.float32)\n",
    "\n",
    "a_d = gpuarray.to_gpu(a)\n",
    "b_d = gpuarray.to_gpu(b)\n",
    "c_d = gpuarray.to_gpu(c)\n",
    "\n",
    "block = context.block_dims\n",
    "grid = context.grid_dims(max([a.shape[0], b.shape[1]]))\n",
    "\n",
    "matrix_multiplication(a_d, b_d, c_d, np.int32(a.shape[0]), \n",
    "                      np.int32(a.shape[1]), np.int32(b.shape[0]), \n",
    "                      np.int32(b.shape[1]), np.int32(c.shape[0]), np.int32(c.shape[1]),\n",
    "                      block=block, grid=grid)\n",
    "\n",
    "c = c_d.get()\n",
    "\n",
    "print(c)\n",
    "print(\"Correct: \", np.allclose(c_python, c))"
   ]
  },
  {
   "cell_type": "markdown",
   "id": "182f02b3-a0cc-4902-85a5-bd14d1a0d9fa",
   "metadata": {},
   "source": [
    "## Matrix Transpose\n",
    "\n",
    "Now working."
   ]
  },
  {
   "cell_type": "code",
   "execution_count": null,
   "id": "c4ae7efc-6fd6-47aa-bdcb-9f01418521a9",
   "metadata": {},
   "outputs": [],
   "source": [
    "matrix_transpose_kernel_path = './kernels/MatrixTranspose.cu'\n",
    "matrix_transpose = context.getSourceModule(matrix_transpose_kernel_path).get_function('MatTran')\n"
   ]
  },
  {
   "cell_type": "markdown",
   "id": "e8b18d36-9952-44d3-9919-fd4dd1d00e52",
   "metadata": {},
   "source": [
    "### Test Cases"
   ]
  },
  {
   "cell_type": "code",
   "execution_count": null,
   "id": "174f4f1a-4620-4755-a9fb-eaceab71905d",
   "metadata": {},
   "outputs": [],
   "source": [
    "a = np.random.randint(5, size=(40, 50))\n",
    "a_t = a.T\n",
    "print(a)\n",
    "print()\n",
    "print(a_t)"
   ]
  },
  {
   "cell_type": "code",
   "execution_count": null,
   "id": "c6b2670f-9fad-47cf-b109-c145d394f6e2",
   "metadata": {},
   "outputs": [],
   "source": [
    "a = a.astype(np.float32)\n",
    "b = np.zeros((a.shape[1], a.shape[0])).astype(np.float32)\n",
    "\n",
    "a_d = gpuarray.to_gpu(a)\n",
    "b_d = gpuarray.to_gpu(b)\n",
    "\n",
    "block = context.block_dims\n",
    "grid = context.grid_dims(max([a.shape[0], b.shape[1]]))\n",
    "\n",
    "# print(block)\n",
    "# print(grid)\n",
    "\n",
    "matrix_transpose(a_d, b_d, np.int32(a.shape[1]), np.int32(a.shape[0]), block=block, grid=grid)\n",
    "\n",
    "b = b_d.get()\n",
    "\n",
    "print(a.shape)\n",
    "print(b.shape)\n",
    "\n",
    "print(b)\n",
    "print(a_t)\n",
    "print(\"Correct: \", np.allclose(a.T, b))"
   ]
  },
  {
   "cell_type": "markdown",
   "id": "04640097-d587-49e9-ab2c-bd4097038980",
   "metadata": {},
   "source": [
    "## Element Wise Multiplication"
   ]
  },
  {
   "cell_type": "code",
   "execution_count": 2,
   "id": "22ca6ed1-3366-4d52-b87f-f35406df78f4",
   "metadata": {},
   "outputs": [],
   "source": [
    "BLOCK_SIZE = 32\n",
    "context = Context(BLOCK_SIZE)\n",
    "\n",
    "element_multiplication_kernel_path = './kernels/ElementWise.cu'\n",
    "element_multiplication = context.getSourceModule(element_multiplication_kernel_path).get_function('MatEleMul')\n"
   ]
  },
  {
   "cell_type": "code",
   "execution_count": 3,
   "id": "8c631a2f-c857-4f48-8241-c739ae02384e",
   "metadata": {},
   "outputs": [],
   "source": [
    "a = np.random.randint(5, size=(490000, 49))\n",
    "b = np.random.randint(5, size=(490000, 49))\n",
    "c_python = a * b\n",
    "\n",
    "c = np.zeros((a.shape[0], b.shape[1])).astype(np.float32)\n"
   ]
  },
  {
   "cell_type": "code",
   "execution_count": 4,
   "id": "279a96bf-69c7-4bcb-a4da-4eff575af13f",
   "metadata": {},
   "outputs": [
    {
     "name": "stdout",
     "output_type": "stream",
     "text": [
      "Correct:  True\n"
     ]
    }
   ],
   "source": [
    "a = a.astype(np.float32)\n",
    "b = b.astype(np.float32)\n",
    "\n",
    "a_d = gpuarray.to_gpu(a)\n",
    "b_d = gpuarray.to_gpu(b)\n",
    "c_d = gpuarray.to_gpu(c)\n",
    "\n",
    "\n",
    "block = context.block_dims\n",
    "grid = context.grid_dims(max([a.shape[0], b.shape[1]]))\n",
    "\n",
    "element_multiplication(a_d, b_d, c_d, np.int32(a.shape[0]), np.int32(a.shape[1]), block=block, grid=grid)\n",
    "\n",
    "c = c_d.get()\n",
    "\n",
    "print(\"Correct: \", np.allclose(c, c_python))"
   ]
  },
  {
   "cell_type": "markdown",
   "id": "38c8cd0b-bc2a-4fd7-aa1a-ea43849f0b61",
   "metadata": {},
   "source": [
    "## Element Wise Add"
   ]
  },
  {
   "cell_type": "code",
   "execution_count": 5,
   "id": "f9bbab8b-2d35-4f3b-a1ea-e2db579ace50",
   "metadata": {},
   "outputs": [],
   "source": [
    "element_add = context.getSourceModule(element_multiplication_kernel_path).get_function('MatEleAdd')\n"
   ]
  },
  {
   "cell_type": "code",
   "execution_count": 6,
   "id": "5738c7ca-562f-49a1-aa76-021f272dcdbb",
   "metadata": {},
   "outputs": [],
   "source": [
    "a = np.random.randint(5, size=(490000, 49))\n",
    "b = np.random.randint(5, size=(490000, 49))\n",
    "c_python = a + b\n",
    "\n",
    "c = np.zeros((a.shape[0], b.shape[1])).astype(np.float32)\n"
   ]
  },
  {
   "cell_type": "code",
   "execution_count": 7,
   "id": "3ab439e5-70a6-430f-8cfc-de24237f8a7f",
   "metadata": {},
   "outputs": [
    {
     "name": "stdout",
     "output_type": "stream",
     "text": [
      "Correct:  True\n"
     ]
    }
   ],
   "source": [
    "a = a.astype(np.float32)\n",
    "b = b.astype(np.float32)\n",
    "\n",
    "a_d = gpuarray.to_gpu(a)\n",
    "b_d = gpuarray.to_gpu(b)\n",
    "c_d = gpuarray.to_gpu(c)\n",
    "\n",
    "\n",
    "block = context.block_dims\n",
    "grid = context.grid_dims(max([a.shape[0], b.shape[1]]))\n",
    "\n",
    "element_add(a_d, b_d, c_d, np.int32(a.shape[0]), np.int32(a.shape[1]), block=block, grid=grid)\n",
    "\n",
    "c = c_d.get()\n",
    "\n",
    "print(\"Correct: \", np.allclose(c, c_python))"
   ]
  },
  {
   "cell_type": "code",
   "execution_count": null,
   "id": "1acf4f68-7b98-4239-8bfb-7433b5c205f8",
   "metadata": {},
   "outputs": [],
   "source": []
  }
 ],
 "metadata": {
  "kernelspec": {
   "display_name": "cudaEnv",
   "language": "python",
   "name": "cudaenv"
  },
  "language_info": {
   "codemirror_mode": {
    "name": "ipython",
    "version": 3
   },
   "file_extension": ".py",
   "mimetype": "text/x-python",
   "name": "python",
   "nbconvert_exporter": "python",
   "pygments_lexer": "ipython3",
   "version": "3.6.9"
  }
 },
 "nbformat": 4,
 "nbformat_minor": 5
}
