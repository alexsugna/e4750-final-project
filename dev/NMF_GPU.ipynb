{
 "cells": [
  {
   "cell_type": "code",
   "execution_count": 6,
   "id": "9af79075-ee8f-4768-84a1-39125a7a73dd",
   "metadata": {},
   "outputs": [
    {
     "name": "stdout",
     "output_type": "stream",
     "text": [
      "The autoreload extension is already loaded. To reload it, use:\n",
      "  %reload_ext autoreload\n"
     ]
    }
   ],
   "source": [
    "import numpy as np\n",
    "\n",
    "from utils.loss_functions import euclidean_loss, euclidean_loss_numpy, euclidean_loss_cupy\n",
    "\n",
    "%load_ext autoreload\n",
    "%autoreload 2"
   ]
  },
  {
   "cell_type": "code",
   "execution_count": 7,
   "id": "da3ae475-9838-4bbf-997c-eab0f9c82f0e",
   "metadata": {},
   "outputs": [],
   "source": [
    "N = 3012 #number of words\n",
    "M = 8447 #number of articles\n",
    "X = np.zeros((N, M)) #define the original data matrix\n",
    "K = 25 #number of categories (matrix rank)\n",
    "\n",
    "\n",
    "W = np.random.uniform(1, 2, (N, K)) #initialize W and H to random values between 1 and 2\n",
    "H = np.random.uniform(1, 2, (K, M))"
   ]
  },
  {
   "cell_type": "code",
   "execution_count": 9,
   "id": "6502bbb9-8a5f-4a74-b51c-0881d9ff4103",
   "metadata": {},
   "outputs": [
    {
     "name": "stdout",
     "output_type": "stream",
     "text": [
      "1009.7851753234863 232.67769813537598 1933.668613433838\n"
     ]
    }
   ],
   "source": [
    "loss, parallel_time = euclidean_loss(X, W, H, return_time=True)\n",
    "loss, sequential_time = euclidean_loss_numpy(X, W, H, return_time=True)\n",
    "loss, parallel_cupy_time = euclidean_loss_cupy(X, W, H, return_time=True)\n",
    "\n",
    "\n",
    "print(parallel_time, sequential_time, parallel_cupy_time)"
   ]
  },
  {
   "cell_type": "code",
   "execution_count": null,
   "id": "0dbd476c-d2cf-4d9d-b188-4919cfafc8b3",
   "metadata": {},
   "outputs": [],
   "source": []
  }
 ],
 "metadata": {
  "kernelspec": {
   "display_name": "cudaEnv",
   "language": "python",
   "name": "cudaenv"
  },
  "language_info": {
   "codemirror_mode": {
    "name": "ipython",
    "version": 3
   },
   "file_extension": ".py",
   "mimetype": "text/x-python",
   "name": "python",
   "nbconvert_exporter": "python",
   "pygments_lexer": "ipython3",
   "version": "3.6.9"
  }
 },
 "nbformat": 4,
 "nbformat_minor": 5
}
